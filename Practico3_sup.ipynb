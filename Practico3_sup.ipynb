{
 "cells": [
  {
   "cell_type": "markdown",
   "metadata": {
    "id": "tFkXu9PjWgtf"
   },
   "source": [
    "# **Práctico N°3**           **Aprendizaje supervisado**"
   ]
  },
  {
   "cell_type": "markdown",
   "metadata": {
    "id": "l6dsCC0tg7aT"
   },
   "source": [
    "## Objetivo y alcance\n",
    "\n",
    "\n"
   ]
  },
  {
   "cell_type": "markdown",
   "metadata": {
    "id": "aM9VAmMT4WiY"
   },
   "source": [
    "Para esta materia el objetivo es poder hacer un primer acercamiento a un proceso de aprendizaje supervisado.\n",
    "\n",
    "Nos enfocaremos en el en el proceso de: selección de un modelo, ajuste de hiperparámetros y evaluación,regulador, métricas.\n",
    "\n",
    "En este laboratorio no se espera que se encuentre el mejor modelo con sus mejores parámetros, sino que se logre la buena práctica de realizar los pasos necesarios en un proceso de aprendizaje automático, desde el planteo de pregunta de investigación, hasta la división del dataset hasta la evaluación del modelo. Para realizar el práctico vamos a utilizar los datasets generados en los prácticos anteriores.\n",
    "\n",
    "\n",
    "# **Planteo del problema**\n",
    "## Descripción\n",
    "El dato de **tiempo de respuesta de HH** tiene muchas implicaciones a nivel producto. Tener ese dato nos permitiría:\n",
    "- informarle a la persona usuaria antes de pasarla a hablar con une operadore el tiempo promedio de respuesta, para que adecúe sus expectativas a la realidad\n",
    "- informarle detalladamente este dato a los hospitales como reporte de uso al final del mes, para que organice al grupo de trabajo con información veraz\n",
    "- permitir configurar lógicas automáticas de repartición de tareas para les operadores, para facilitarles su trabajo\n",
    "\n",
    "Por ello lo que se pretende en este práctico es poder armar un modelo que nos ayude a predecir el tiempo de respuesta de HH. Lo que nos da este dato es la presencia de la feature Got_HH, que cuando vale 1 nos marca en el dataset que el bot realizó la transferencia. El siguiente mensaje que tenga Direction == outbound sería el primer mensaje de un operador humano. La diferencia de horas entre estos dos mensajes nos da el tiempo de respuesta de un operador humano.\n",
    "\n",
    "Predecir esta variable teniendo en cuenta las distintas features del dataset será una tarea de regresión. Entrenar un modelo por hospital dará una mejor predicción. Entrenar por porción del día (mañana/tarde) también dará mejores resultados, pero es opcional.\n",
    "\n",
    "Deberán armar un dataset más pequeño que el actual sacando los hospitales sin HH (Demo, Desarrollo, Clínica Carrá, Default) y las conversaciones sin HH (que agrupadas por conv_id no tengan un Got_HH == 1)\n",
    "### **Para ello se debe:**\n",
    "\n",
    "generar las features:\n",
    "\n",
    "- tiempo_de_respuesta_HH (por cada conv, calcular el valor absoluto de la diferencia entre el mensaje con\n",
    "- cant de mensajes de la conversación (agrupación por conv_id+dia y luego sum)\n",
    "- momento del dia (day_moment fue generada por el grupo 2 y puede reutilizarse el código que está aquí https://colab.research.google.com/drive/1KHgwiRqFLlavfhnCNdVvqG-xoPc0qMsM?usp=sharing#scrollTo=P04lwj2bSrFM )\n",
    "\n",
    "conservar las features:\n",
    "\n",
    "> - hora de pedido/recepcion de HH (hora de got_HH si hubo HH),\n",
    "> - dia de la semana\n",
    "> - mes\n",
    "> - presencia de errores en la conversación\n",
    "> - hospital\n",
    "> - cancelled\n",
    "> - consulted\n",
    "> - no correlation\n",
    "> - y en general, todas las features que no sean body.\n",
    "\n",
    "* Identificar la variable que responda a la demanda (tiempo_de_respuesta_HH)\n",
    "* Cargar los datos, separando del dataset la etiqueta a predecir.\n",
    "* Dividir el dataset en el conjunto de entrenamiento y conjunto de test\n",
    "* Elegir y fundamentar si usar regresión lineal o polinomial(https://towardsdatascience.com/introduction-to-linear-regression-and-polynomial-regression-f8adc96f31cb, https://data36.com/polynomial-regression-python-scikit-learn/ ) . Tomarse un tiempito en hacer esta decisión les será muy útil ya que es una decisión interesante para comunicar en el video que tengan que hacer a partir de este práctico.\n",
    "* Entrenar y evaluar un modelo de regresión lineal y uno polinomial, fijando la semilla aleatoria para hacer repetible el experimento.\n",
    "* En cuanto a los hiper-parámetros:\n",
    "\n",
    "        1.   Probar primero con los default y elegir alguna/s métrica/s para reportar los resultados. \n",
    "        2.   Luego usar grid-search y 5-fold cross-validation (https://machinelearningmastery.com/hyperparameter-optimization-with-random-search-and-grid-search/) para explorar muchas combinaciones posibles de valores, reportando  accuracy promedio y varianza para todas las configuraciones (Ejemplo de uso de grid search para encontrar el grado de polynomial regression https://stackoverflow.com/a/62460485/13597482 )\n",
    "\n",
    "*   Para la mejor configuración encontrada, evaluar sobre el conjunto de entrenamiento y sobre el conjunto de evaluación, reportando MAE y RMSE.\n",
    "\n",
    "### Se evaluarán los siguientes aspectos:\n",
    "  ***1-*** Que se apliquen los conceptos vistos con los profes en el teórico y en el práctico.\n",
    "\n",
    "  ***2-*** Capacidad de análisis. Esto permitirá que puedan completar el video que deben preparar a continuación.\n",
    "\n",
    "  ***3-*** Criterio para elegir que solución aplicar en cada caso y con qué método implementarla.\n",
    "\n",
    "\n",
    "  \n",
    "## Deadline pautado para la entrega: Miércoles 21/08/2022"
   ]
  },
  {
   "cell_type": "markdown",
   "metadata": {
    "id": "HzJ4l-qbpY1x"
   },
   "source": [
    "Es importante que vayan anotando **conclusiones y observaciones en lenguaje natural** (no muy extensas) a medida que vayan realizando las tareas para que les sirva como **punto de partida** para el video de 10 min que se realice a partir de este práctico. El video que sigue a este práctico serviría como informe de resultados y observaciones de este ejercicio.\n",
    "\n",
    "Lo importante de este práctico **no es encontrar el mejor modelo posible** ni mucho menos, sino poder ejercitar todo el proceso, que implica tanto preparar los datos hasta correr los experimentos, y finalmente analizar y explicar los resultados encontrados. En mi experiencia, la primera reacción ante saber que hay que comunicar resultados es querer comunicar éxitos, pero los resultados exitosos son -la mayoría de las veces- poco informativos. En el proceso de realización del práctico se encontrarán con desafíos de las tareas propuestas y con problemas específicos de este tipo de datasets conversacionales. Esa información es la valiosa a comunicar ya que es una experiencia que ningún otro grupo pudo tener, y le puede servir a otro grupo en un futuro que se relacione con datos que tengan características parecidas."
   ]
  }
 ],
 "metadata": {
  "colab": {
   "provenance": []
  },
  "kernelspec": {
   "display_name": "Python 3",
   "language": "python",
   "name": "python3"
  },
  "language_info": {
   "codemirror_mode": {
    "name": "ipython",
    "version": 3
   },
   "file_extension": ".py",
   "mimetype": "text/x-python",
   "name": "python",
   "nbconvert_exporter": "python",
   "pygments_lexer": "ipython3",
   "version": "3.6.9"
  }
 },
 "nbformat": 4,
 "nbformat_minor": 4
}
